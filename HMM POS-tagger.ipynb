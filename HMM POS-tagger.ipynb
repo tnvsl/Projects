{
  "nbformat": 4,
  "nbformat_minor": 0,
  "metadata": {
    "colab": {
      "name": "Кондратенко_Новосильцева_МСПморф.ipynb",
      "provenance": [],
      "collapsed_sections": [],
      "include_colab_link": true
    },
    "kernelspec": {
      "name": "python3",
      "display_name": "Python 3"
    },
    "language_info": {
      "name": "python"
    }
  },
  "cells": [
    {
      "cell_type": "markdown",
      "metadata": {
        "id": "view-in-github",
        "colab_type": "text"
      },
      "source": [
        "<a href=\"https://colab.research.google.com/github/tnvsl/Projects/blob/main/HMM%20POS-tagger.ipynb\" target=\"_parent\"><img src=\"https://colab.research.google.com/assets/colab-badge.svg\" alt=\"Open In Colab\"/></a>"
      ]
    },
    {
      "cell_type": "markdown",
      "source": [
        "**Скрытая Марковская модель (HMM)**\n",
        "\n",
        "Скрытая Марковская модель - это вероятностная модель последовательности, которая состоит из набора наблюдаемых переменных X = {x1,...,xN} и скрытых\n",
        "переменных(переменные состояния) T = {t1 ,...,tN}. Целью модели является как можно точнее смоделировать статические свойства источников сигналов.\n",
        "\n",
        "![Screenshot 2021-12-16 at 8.41.21 AM.png](data:image/png;base64,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)\n",
        "\n",
        "Наблюдаемые переменные - слова\n",
        "\n",
        "Скрытые переменные - теги\n",
        "\n",
        "Модель не имеет точной информации о тегах, но знает общие тенденции. Основываясь на том, какие теги были у слов в обучающей выборке, модель пытается угадать, какой тег будет у новых слов."
      ],
      "metadata": {
        "id": "265R_zJfdjKu"
      }
    },
    {
      "cell_type": "markdown",
      "source": [
        "1 Этап. Обучение модели. \n",
        "\n",
        "Импортируем библиотеки"
      ],
      "metadata": {
        "id": "CsDrtO_AGUN_"
      }
    },
    {
      "cell_type": "code",
      "execution_count": null,
      "metadata": {
        "id": "whgmLT2s8s8q"
      },
      "outputs": [],
      "source": [
        "from google.colab import drive\n",
        "import nltk\n",
        "import numpy as np\n",
        "import pandas as pd\n",
        "import random\n",
        "from sklearn.model_selection import train_test_split\n",
        "import pprint, time"
      ]
    },
    {
      "cell_type": "markdown",
      "source": [
        "Для обучения используем материалы DIALOGUE EVALUATION 2017\n",
        "Морфологический анализ (General Internet-Corpus of Russian)"
      ],
      "metadata": {
        "id": "Gc679pAaShWE"
      }
    },
    {
      "cell_type": "code",
      "source": [
        "drive.mount('/content/drive')"
      ],
      "metadata": {
        "colab": {
          "base_uri": "https://localhost:8080/"
        },
        "id": "i7XBCB5yAifH",
        "outputId": "4226a37f-6041-4fe9-9b0a-6c34680b1f21"
      },
      "execution_count": null,
      "outputs": [
        {
          "output_type": "stream",
          "name": "stdout",
          "text": [
            "Mounted at /content/drive\n"
          ]
        }
      ]
    },
    {
      "cell_type": "code",
      "source": [
        "with open(\"/content/drive/MyDrive/МСП/gikrya_train.txt\") as f:\n",
        "  data = f.read()"
      ],
      "metadata": {
        "id": "RiPtxBJlAlym"
      },
      "execution_count": null,
      "outputs": []
    },
    {
      "cell_type": "markdown",
      "source": [
        "Посмотрим, как выглядят наши данные. Выведем первые 3 предложения:"
      ],
      "metadata": {
        "id": "diPNZYObIs6z"
      }
    },
    {
      "cell_type": "code",
      "source": [
        "sent = data.split('\\n\\n')\n",
        "for i in range(3):\n",
        "  print(sent[i])\n",
        "  print('')"
      ],
      "metadata": {
        "colab": {
          "base_uri": "https://localhost:8080/"
        },
        "id": "8UcEQ_MFJdWK",
        "outputId": "9219a1fb-8b64-43ec-81ed-adf3ffee5ba6"
      },
      "execution_count": null,
      "outputs": [
        {
          "output_type": "stream",
          "name": "stdout",
          "text": [
            "1\tЧья-то\tчей-то\tDET\tCase=Nom|Gender=Fem|Number=Sing\n",
            "2\tрука\tрука\tNOUN\tAnimacy=Inan|Case=Nom|Gender=Fem|Number=Sing\n",
            "3\tлегла\tлечь\tVERB\tGender=Fem|Mood=Ind|Number=Sing|Tense=Past|VerbForm=Fin|Voice=Act\n",
            "4\tему\tон\tPRON\tCase=Dat|Gender=Masc|Number=Sing|Person=3\n",
            "5\tна\tна\tADP\t_\n",
            "6\tплечо\tплечо\tNOUN\tAnimacy=Inan|Case=Acc|Gender=Neut|Number=Sing\n",
            "7\t.\t.\tPUNCT\t_\n",
            "\n",
            "1\tОн\tон\tPRON\tCase=Nom|Gender=Masc|Number=Sing|Person=3\n",
            "2\tне\tне\tPART\t_\n",
            "3\tголодал\tголодать\tVERB\tGender=Masc|Mood=Ind|Number=Sing|Tense=Past|VerbForm=Fin|Voice=Act\n",
            "4\t,\t,\tPUNCT\t_\n",
            "5\tне\tне\tPART\t_\n",
            "6\tмерз\tмёрзнуть\tVERB\tGender=Masc|Mood=Ind|Number=Sing|Tense=Past|VerbForm=Fin|Voice=Act\n",
            "7\tна\tна\tADP\t_\n",
            "8\tвокзале\tвокзал\tNOUN\tAnimacy=Inan|Case=Loc|Gender=Masc|Number=Sing\n",
            "9\tпод\tпод\tADP\t_\n",
            "10\tдождем\tдождь\tNOUN\tAnimacy=Inan|Case=Ins|Gender=Masc|Number=Sing\n",
            "11\t,\t,\tPUNCT\t_\n",
            "12\tего\tон\tPRON\tCase=Acc|Gender=Masc|Number=Sing|Person=3\n",
            "13\tне\tне\tPART\t_\n",
            "14\tунижали\tунижать\tVERB\tMood=Ind|Number=Plur|Tense=Past|VerbForm=Fin|Voice=Act\n",
            "15\t,\t,\tPUNCT\t_\n",
            "16\tне\tне\tPART\t_\n",
            "17\tбили\tбить\tVERB\tMood=Ind|Number=Plur|Tense=Past|VerbForm=Fin|Voice=Act\n",
            "18\t.\t.\tPUNCT\t_\n",
            "\n",
            "1\tА\tа\tCONJ\t_\n",
            "2\tс\tс\tADP\t_\n",
            "3\tдальнего\tдальний\tADJ\tCase=Gen|Degree=Pos|Gender=Masc|Number=Sing\n",
            "4\tконца\tконец\tNOUN\tAnimacy=Inan|Case=Gen|Gender=Masc|Number=Sing\n",
            "5\tлагеря\tлагерь\tNOUN\tAnimacy=Inan|Case=Gen|Gender=Masc|Number=Sing\n",
            "6\tраспространялся\tраспространяться\tVERB\tGender=Masc|Mood=Ind|Number=Sing|Tense=Past|VerbForm=Fin|Voice=Mid\n",
            "7\tаромат\tаромат\tNOUN\tAnimacy=Inan|Case=Nom|Gender=Masc|Number=Sing\n",
            "8\tжаркого\tжаркое\tNOUN\tAnimacy=Inan|Case=Gen|Gender=Neut|Number=Sing\n",
            "9\t.\t.\tPUNCT\t_\n",
            "\n"
          ]
        }
      ]
    },
    {
      "cell_type": "code",
      "source": [
        "for i in sent[-5:]:\n",
        "  print(i, '\\n')"
      ],
      "metadata": {
        "colab": {
          "base_uri": "https://localhost:8080/"
        },
        "id": "Dm8u7LwwfGJ1",
        "outputId": "28d341f7-643c-48ab-fe46-035f6cf76085"
      },
      "execution_count": null,
      "outputs": [
        {
          "output_type": "stream",
          "name": "stdout",
          "text": [
            "1\tИ\tи\tCONJ\t_\n",
            "2\tдаже\tдаже\tPART\t_\n",
            "3\tхлам\tхлам\tNOUN\tAnimacy=Inan|Case=Nom|Gender=Masc|Number=Sing\n",
            "4\tкак_будто\tкак_будто\tCONJ\t_\n",
            "5\tтихо\tтихо\tADV\tDegree=Pos\n",
            "6\tдышит\tдышать\tVERB\tMood=Ind|Number=Sing|Person=3|Tense=Notpast|VerbForm=Fin|Voice=Act\n",
            "7\t.\t.\tPUNCT\t_ \n",
            "\n",
            "1\tНо\tно\tCONJ\t_\n",
            "2\tне\tне\tPART\t_\n",
            "3\tэто\tэто\tPRON\tCase=Nom|Gender=Neut|Number=Sing\n",
            "4\tбыло\tбыть\tVERB\tGender=Neut|Mood=Ind|Number=Sing|Tense=Past|VerbForm=Fin|Voice=Act\n",
            "5\tглавное\tглавный\tADJ\tCase=Nom|Degree=Pos|Gender=Neut|Number=Sing\n",
            "6\t!\t!\tPUNCT\t_ \n",
            "\n",
            "1\tТам\tтам\tADV\tDegree=Pos\n",
            "2\tмогут\tмочь\tVERB\tMood=Ind|Number=Plur|Person=3|Tense=Notpast|VerbForm=Fin|Voice=Act\n",
            "3\tбыть\tбыть\tVERB\tVerbForm=Inf\n",
            "4\tи\tи\tCONJ\t_\n",
            "5\tфрески\tфреска\tNOUN\tAnimacy=Inan|Case=Nom|Gender=Fem|Number=Plur\n",
            "6\t,\t,\tPUNCT\t_\n",
            "7\tи\tи\tCONJ\t_\n",
            "8\tдругие\tдругой\tDET\tCase=Nom|Number=Plur\n",
            "9\tпамятники\tпамятник\tNOUN\tAnimacy=Inan|Case=Nom|Gender=Masc|Number=Plur\n",
            "10\t.\t.\tPUNCT\t_ \n",
            "\n",
            "1\tБез\tбез\tADP\t_\n",
            "2\tсил\tсила\tNOUN\tAnimacy=Inan|Case=Gen|Gender=Fem|Number=Plur\n",
            "3\tона\tон\tPRON\tCase=Nom|Gender=Fem|Number=Sing|Person=3\n",
            "4\tопустилась\tопуститься\tVERB\tGender=Fem|Mood=Ind|Number=Sing|Tense=Past|VerbForm=Fin|Voice=Mid\n",
            "5\tна\tна\tADP\t_\n",
            "6\tкойку\tкойка\tNOUN\tAnimacy=Inan|Case=Acc|Gender=Fem|Number=Sing\n",
            "7\t.\t.\tPUNCT\t_ \n",
            "\n",
            " \n",
            "\n"
          ]
        }
      ]
    },
    {
      "cell_type": "code",
      "source": [
        "# в файле последнее предложение - пустая строка, так что мы удаляем ее, чтобы она не мешала\n",
        "sent.remove('')"
      ],
      "metadata": {
        "id": "iMLve0IVPVnt"
      },
      "execution_count": null,
      "outputs": []
    },
    {
      "cell_type": "code",
      "source": [
        "# представляем данные в виде списка, который содержит другие списки, каждый из\n",
        "# которых соответствует одному предложению и содержит все слова и их теги в виде кортежа (слово, тег)\n",
        "tokens = []\n",
        "for sentence in sent:\n",
        "  s = []\n",
        "  for word in sentence.split('\\n'):\n",
        "      token = (word.split()[1], word.split()[3])\n",
        "      s.append(token)\n",
        "  tokens.append(s)\n"
      ],
      "metadata": {
        "id": "QY6QzaYvNbYy"
      },
      "execution_count": null,
      "outputs": []
    },
    {
      "cell_type": "code",
      "source": [
        "print(tokens[0:10])"
      ],
      "metadata": {
        "colab": {
          "base_uri": "https://localhost:8080/"
        },
        "id": "YrnnFJ9KSC4X",
        "outputId": "7b5b3a14-c1ba-48d3-8cd9-f0259c16b140"
      },
      "execution_count": null,
      "outputs": [
        {
          "output_type": "stream",
          "name": "stdout",
          "text": [
            "[[('Чья-то', 'DET'), ('рука', 'NOUN'), ('легла', 'VERB'), ('ему', 'PRON'), ('на', 'ADP'), ('плечо', 'NOUN'), ('.', 'PUNCT')], [('Он', 'PRON'), ('не', 'PART'), ('голодал', 'VERB'), (',', 'PUNCT'), ('не', 'PART'), ('мерз', 'VERB'), ('на', 'ADP'), ('вокзале', 'NOUN'), ('под', 'ADP'), ('дождем', 'NOUN'), (',', 'PUNCT'), ('его', 'PRON'), ('не', 'PART'), ('унижали', 'VERB'), (',', 'PUNCT'), ('не', 'PART'), ('били', 'VERB'), ('.', 'PUNCT')], [('А', 'CONJ'), ('с', 'ADP'), ('дальнего', 'ADJ'), ('конца', 'NOUN'), ('лагеря', 'NOUN'), ('распространялся', 'VERB'), ('аромат', 'NOUN'), ('жаркого', 'NOUN'), ('.', 'PUNCT')], [('Потратил', 'VERB'), ('кучу', 'NOUN'), ('денег', 'NOUN'), ('по', 'ADP'), ('моему', 'DET'), ('мнению', 'NOUN'), ('лишь', 'CONJ'), ('для', 'ADP'), ('того', 'PRON'), ('чтобы', 'CONJ'), ('поехать', 'VERB'), ('в', 'ADP'), ('пригород', 'NOUN'), ('и', 'PART'), ('встретится', 'VERB'), ('с', 'ADP'), ('двумя', 'NUM'), ('девочками', 'NOUN'), (',', 'PUNCT'), ('в', 'ADP'), ('этом', 'PRON'), ('весь', 'DET'), ('я', 'PRON'), ('.', 'PUNCT')], [('Подчиняясь', 'VERB'), ('интуиции', 'NOUN'), ('строителя', 'NOUN'), (',', 'PUNCT'), ('он', 'PRON'), ('приблизился', 'VERB'), ('к', 'ADP'), ('котловану', 'NOUN'), (',', 'PUNCT'), ('который', 'DET'), (',', 'PUNCT'), ('по', 'ADP'), ('его', 'DET'), ('расчетам', 'NOUN'), (',', 'PUNCT'), ('вскоре', 'ADV'), ('должен', 'ADJ'), ('был', 'VERB'), ('заполниться', 'VERB'), ('водой', 'NOUN'), (',', 'PUNCT'), ('и', 'CONJ'), ('напоследок', 'ADV'), ('ощупал', 'VERB'), ('каждый', 'DET'), ('брелок', 'NOUN'), ('.', 'PUNCT')], [('И', 'CONJ'), ('их', 'DET'), ('души', 'NOUN'), ('попадут', 'VERB'), ('в', 'ADP'), ('рай', 'NOUN'), ('.', 'PUNCT')], [('Одна', 'NUM'), ('нежная', 'ADJ'), ('впечатлительная', 'ADJ'), ('девочка', 'NOUN'), (',', 'PUNCT'), ('увидев', 'VERB'), ('этот', 'DET'), ('фильм', 'NOUN'), (',', 'PUNCT'), ('сошла', 'VERB'), ('с', 'ADP'), ('ума', 'NOUN'), (',', 'PUNCT'), ('у', 'ADP'), ('неё', 'PRON'), ('началось', 'VERB'), ('буйное', 'ADJ'), ('помешательство', 'NOUN'), ('от', 'ADP'), ('ужасов', 'NOUN'), ('войны', 'NOUN'), ('.', 'PUNCT')], [('-', 'PUNCT'), ('А', 'CONJ'), ('я', 'PRON'), ('там', 'ADV'), ('присмотрела', 'VERB'), ('себе', 'PRON'), ('подарок', 'NOUN'), ('к', 'ADP'), ('этой', 'DET'), ('дате', 'NOUN'), ('...', 'PUNCT')], [('Ближе', 'ADV'), ('к', 'ADP'), ('ночи', 'NOUN'), ('они', 'PRON'), ('дружно', 'ADV'), ('грузились', 'VERB'), ('в', 'ADP'), ('собственный', 'ADJ'), ('или', 'CONJ'), ('выделенный', 'ADJ'), ('для', 'ADP'), ('их', 'DET'), ('нужд', 'NOUN'), ('легковой', 'ADJ'), ('транспорт', 'NOUN'), ('и', 'CONJ'), ('убирались', 'VERB'), ('вон', 'ADV'), ('из', 'ADP'), ('города', 'NOUN'), ('.', 'PUNCT')], [('подозреваю', 'VERB'), (',', 'PUNCT'), ('что', 'CONJ'), ('вышедшие', 'ADJ'), ('давным-давно', 'ADV'), ('открытки', 'NOUN'), ('есть', 'VERB'), ('еще', 'ADV'), ('в', 'ADP'), ('каких-то', 'DET'), ('блогах', 'NOUN'), ('.', 'PUNCT')]]\n"
          ]
        }
      ]
    },
    {
      "cell_type": "code",
      "source": [
        "# смотрим сколько всего у нас предложений\n",
        "print(len(sent))"
      ],
      "metadata": {
        "colab": {
          "base_uri": "https://localhost:8080/"
        },
        "id": "05AaDQclNAgl",
        "outputId": "c60a1740-415b-494e-9d9e-fff9df332f9f"
      },
      "execution_count": null,
      "outputs": [
        {
          "output_type": "stream",
          "name": "stdout",
          "text": [
            "62361\n"
          ]
        }
      ]
    },
    {
      "cell_type": "code",
      "source": [
        "# делим даннные на обучающую и тестовую выборки в соотношении 80:20\n",
        "# данные выбираются рандомно, random_state - фиксирует набор\n",
        "train_set,test_set =train_test_split(tokens, train_size=0.80,test_size=0.20,random_state = 101)"
      ],
      "metadata": {
        "id": "QoiuZu29TGQh"
      },
      "execution_count": null,
      "outputs": []
    },
    {
      "cell_type": "code",
      "source": [
        "print(len(train_set))\n",
        "print(len(test_set))"
      ],
      "metadata": {
        "colab": {
          "base_uri": "https://localhost:8080/"
        },
        "id": "uKfAaBPfTbR7",
        "outputId": "74d7d7a7-d507-44ec-88f1-aad40612571b"
      },
      "execution_count": null,
      "outputs": [
        {
          "output_type": "stream",
          "name": "stdout",
          "text": [
            "49888\n",
            "12473\n"
          ]
        }
      ]
    },
    {
      "cell_type": "code",
      "source": [
        "# из списка списков создаем список размеченных обучающих и тестовых данных\n",
        "train_tagged_words = [ tup for sent in train_set for tup in sent ]\n",
        "test_tagged_words = [ tup for sent in test_set for tup in sent ]\n",
        "print(len(train_tagged_words))\n",
        "print(len(test_tagged_words))"
      ],
      "metadata": {
        "colab": {
          "base_uri": "https://localhost:8080/"
        },
        "id": "ZkT91QXyUPT_",
        "outputId": "d0cec807-cf34-4a6b-8fbc-d8ce3183ce2d"
      },
      "execution_count": null,
      "outputs": [
        {
          "output_type": "stream",
          "name": "stdout",
          "text": [
            "651946\n",
            "163938\n"
          ]
        }
      ]
    },
    {
      "cell_type": "code",
      "source": [
        "# проверяем первые 5 размеченных слов в обучающей выборке\n",
        "train_tagged_words[:5]"
      ],
      "metadata": {
        "colab": {
          "base_uri": "https://localhost:8080/"
        },
        "id": "kx9sVBQ5UR-h",
        "outputId": "46180e58-15bb-43bd-b8c8-94e58b1b8d90"
      },
      "execution_count": null,
      "outputs": [
        {
          "output_type": "execute_result",
          "data": {
            "text/plain": [
              "[('Зачем', 'ADV'),\n",
              " ('вам', 'PRON'),\n",
              " ('тратить', 'VERB'),\n",
              " ('годы', 'NOUN'),\n",
              " ('на', 'ADP')]"
            ]
          },
          "metadata": {},
          "execution_count": 17
        }
      ]
    },
    {
      "cell_type": "code",
      "source": [
        "# смотрим сколько уникальных тегов присутствует в обучающей выборке\n",
        "tags = {tag for word,tag in train_tagged_words}\n",
        "print(len(tags))\n",
        "print(tags)\n",
        " \n",
        "# проверяем общее количество слов\n",
        "vocab = {word for word,tag in train_tagged_words}"
      ],
      "metadata": {
        "colab": {
          "base_uri": "https://localhost:8080/"
        },
        "id": "U_sc2iubUXFS",
        "outputId": "a0bd4895-e4bc-4804-8ba1-0f1ac6c6cdeb"
      },
      "execution_count": null,
      "outputs": [
        {
          "output_type": "stream",
          "name": "stdout",
          "text": [
            "13\n",
            "{'PART', 'INTJ', 'NUM', 'DET', 'CONJ', 'ADV', 'PUNCT', 'ADJ', 'H', 'VERB', 'PRON', 'NOUN', 'ADP'}\n"
          ]
        }
      ]
    },
    {
      "cell_type": "code",
      "source": [
        "print(len(vocab))"
      ],
      "metadata": {
        "colab": {
          "base_uri": "https://localhost:8080/"
        },
        "id": "B0aWaJR2fMfE",
        "outputId": "0d617203-fb5d-440e-db0e-564e4c09e44f"
      },
      "execution_count": null,
      "outputs": [
        {
          "output_type": "stream",
          "name": "stdout",
          "text": [
            "94390\n"
          ]
        }
      ]
    },
    {
      "cell_type": "markdown",
      "source": [
        "Для каждого состояния скрытой марковской модели задан вектор вероятности эмиссии(выбросов), который характеризует вероятность наблюдения каждого события, когда модель находится в этом состоянии. \n",
        "\n",
        "В нашем случае эмиссия - насколько вероятно, что конкретное слово будет иметь конкретный тег.\n",
        "\n",
        "Совокупность таких векторов образует матрицу эмиссии."
      ],
      "metadata": {
        "id": "VDElHXHlffmr"
      }
    },
    {
      "cell_type": "code",
      "source": [
        "# рассчитываем вероятности эмиссии\n",
        "# они определяют вероятность увидеть определенную наблюдаемую переменную при заданном значении для скрытых переменных, \n",
        "# т.е. эта функция возвращает то, сколько всего раз тег встречался в выборке и сколько раз определенное слово встречалось с этим тегом \n",
        "def word_given_tag(word, tag, train_bag = train_tagged_words):\n",
        "    tag_list = [pair for pair in train_bag if pair[1]==tag] # список всех слов определенного тега\n",
        "    count_tag = len(tag_list)# общее число появления тегов в обучающей выборке\n",
        "    w_given_tag_list = [pair[0] for pair in tag_list if pair[0]==word] # cписок, который состоит из всех вхождений данного слова, которые были помечены определенным тегом\n",
        "# подсчитываем общее количество раз, когда слово встречалось с тегом\n",
        "    count_w_given_tag = len(w_given_tag_list)\n",
        "   \n",
        "    return (count_w_given_tag, count_tag)"
      ],
      "metadata": {
        "id": "ZVORruN_UalX"
      },
      "execution_count": null,
      "outputs": []
    },
    {
      "cell_type": "markdown",
      "source": [
        "ЯНА"
      ],
      "metadata": {
        "id": "11klbCxisnSq"
      }
    },
    {
      "cell_type": "markdown",
      "source": [
        "[**Вероятность перехода**](http://stratum.ac.ru/education/textbooks/modelir/lection33.html)\n",
        "\n",
        "Модель марковского процесса представим в виде графа, в котором состояния (вершины) связаны между собой связями (переходами из i-го состояния в j-е состояние)\n",
        "\n",
        "![img01.gif](data:image/gif;base64,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)\n",
        "\n",
        "Каждый переход характеризуется вероятностью перехода Pij. Вероятность Pij показывает, как часто после попадания в i-е состояние осуществляется затем переход в j-е состояние. \n",
        "\n",
        "Таким образом, реализация марковского процесса представляет собой вычисление последовательности (цепи) переходов из состояния в состояние. \n",
        "![img04.gif](data:image/gif;base64,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)\n",
        "\n"
      ],
      "metadata": {
        "id": "9cP0fgR4Z4c6"
      }
    },
    {
      "cell_type": "code",
      "source": [
        "# рассчитаем вероятность переходов\n",
        "def t2_given_t1(t2, t1, train_bag = train_tagged_words): # t1 = t2, это пронумерованный список тегов\n",
        "    tags = [pair[1] for pair in train_bag] # список всех тегов по порядку (просто из общего спсика размеченных слов мы убираем слова, получаем последовательность тегов)\n",
        "    count_t1 = len([t for t in tags if t==t1])\n",
        "    count_t2_t1 = 0\n",
        "    for index in range(len(tags)-1):\n",
        "        if tags[index]==t1 and tags[index+1] == t2: # если при теге t1 следующий тег = t2, то осуществляется переход\n",
        "            count_t2_t1 += 1\n",
        "    return (count_t2_t1, count_t1) # сколько всего раз встречается данный (второе значение), сколько раз данный тег переходит в другой тег (первое значение)"
      ],
      "metadata": {
        "id": "BTlw_shxUbuX"
      },
      "execution_count": null,
      "outputs": []
    },
    {
      "cell_type": "code",
      "source": [
        "# создаем матрицу тегов t x t, где t - номер тега\n",
        "# матрица(i, j) представляет вероятность перехода P(i-й тег переходит в j-й тег)\n",
        " \n",
        "tags_matrix = np.zeros((len(tags), len(tags)), dtype='float32')\n",
        "for i, t1 in enumerate(list(tags)):\n",
        "    for j, t2 in enumerate(list(tags)): \n",
        "        tags_matrix[i, j] = t2_given_t1(t2, t1)[0]/t2_given_t1(t2, t1)[1]\n",
        " \n",
        "print(tags_matrix)"
      ],
      "metadata": {
        "colab": {
          "base_uri": "https://localhost:8080/"
        },
        "id": "Dxzp8wjeUeYo",
        "outputId": "3a524607-cced-4d5a-bc99-be2deec7e40e"
      },
      "execution_count": null,
      "outputs": [
        {
          "output_type": "stream",
          "name": "stdout",
          "text": [
            "[[4.70535792e-02 4.05284918e-05 8.87573976e-03 2.93831564e-02\n",
            "  8.63256864e-03 8.04490522e-02 4.62024808e-02 7.98816532e-02\n",
            "  4.05284925e-04 4.83221203e-01 6.22112341e-02 8.07327554e-02\n",
            "  7.29107559e-02]\n",
            " [8.01393762e-02 3.48432059e-03 1.74216030e-03 6.96864119e-03\n",
            "  8.01393762e-02 7.83972144e-02 5.62717795e-01 2.43902430e-02\n",
            "  5.22648077e-03 3.83275263e-02 7.49128908e-02 1.74216032e-02\n",
            "  2.61324048e-02]\n",
            " [7.80559657e-03 0.00000000e+00 8.83652456e-03 1.23711340e-02\n",
            "  1.00147277e-02 1.26656853e-02 8.57142881e-02 9.14580300e-02\n",
            "  2.94550817e-04 2.87187044e-02 8.98379926e-03 6.47569954e-01\n",
            "  8.55670124e-02]\n",
            " [2.94617787e-02 0.00000000e+00 5.02234371e-03 2.10780241e-02\n",
            "  6.05053967e-03 2.08012015e-02 5.72626255e-02 1.29908651e-01\n",
            "  1.58184048e-04 7.30414838e-02 2.93826871e-02 6.09206319e-01\n",
            "  1.86261721e-02]\n",
            " [7.12699965e-02 3.31725751e-04 7.45107047e-03 4.57526334e-02\n",
            "  1.71476696e-02 1.09061219e-01 2.41394266e-02 9.66852978e-02\n",
            "  3.11311847e-03 1.98550612e-01 1.61754578e-01 1.77039474e-01\n",
            "  8.77031833e-02]\n",
            " [8.65447894e-02 2.02562413e-04 1.52681423e-02 1.91168282e-02\n",
            "  1.65341571e-02 8.14554095e-02 1.63569152e-01 1.08497493e-01\n",
            "  1.77242109e-04 2.93436974e-01 7.84929320e-02 6.03889190e-02\n",
            "  7.63153881e-02]\n",
            " [4.14537452e-02 4.85551637e-03 9.61101335e-03 4.28631194e-02\n",
            "  2.24408522e-01 9.62283388e-02 3.13244462e-02 8.01705793e-02\n",
            "  1.19933076e-02 1.15832254e-01 1.27298191e-01 1.23106442e-01\n",
            "  9.08454433e-02]\n",
            " [1.09774042e-02 0.00000000e+00 4.12085513e-03 9.15938057e-03\n",
            "  2.84823831e-02 1.48385419e-02 1.39433816e-01 7.07471222e-02\n",
            "  8.65725888e-05 5.53891435e-02 1.34014376e-02 5.92139184e-01\n",
            "  6.12241365e-02]\n",
            " [1.30293155e-02 0.00000000e+00 0.00000000e+00 1.04234526e-02\n",
            "  3.25732888e-03 2.08469052e-02 7.91530967e-01 1.82410423e-02\n",
            "  0.00000000e+00 4.62540723e-02 5.01628667e-02 2.54071653e-02\n",
            "  2.08469052e-02]\n",
            " [3.23151797e-02 6.36125551e-05 1.03688464e-02 4.52603363e-02\n",
            "  2.34942380e-02 6.81926608e-02 2.31422484e-01 9.57793072e-02\n",
            "  1.69633480e-04 8.02472383e-02 6.83941022e-02 1.60823151e-01\n",
            "  1.83469221e-01]\n",
            " [1.08617157e-01 1.26691870e-04 4.56090691e-03 2.14742702e-02\n",
            "  1.34715680e-02 1.24411412e-01 1.10475309e-01 6.46128505e-02\n",
            "  4.64536832e-04 3.76676023e-01 4.96209785e-02 5.07189780e-02\n",
            "  7.47693181e-02]\n",
            " [2.09558848e-02 2.74561226e-05 6.36295602e-03 2.18550730e-02\n",
            "  5.62575944e-02 3.63519043e-02 4.06632036e-01 5.96415587e-02\n",
            "  1.71600754e-04 1.34027064e-01 2.07842849e-02 1.30080238e-01\n",
            "  1.06852360e-01]\n",
            " [0.00000000e+00 0.00000000e+00 3.49392109e-02 1.29234612e-01\n",
            "  6.74502153e-05 4.51916410e-03 1.09606597e-03 1.69907093e-01\n",
            "  0.00000000e+00 3.54113610e-04 1.49368495e-01 5.10277748e-01\n",
            "  2.36075750e-04]]\n"
          ]
        }
      ]
    },
    {
      "cell_type": "markdown",
      "source": [
        "**Матрица перехода тегов(состояний)**\n",
        "\n",
        "Матрица задает вероятность перехода из каждого тега в каждый. \n",
        "\n",
        "Наглядно модель марковского процесса можно представить себе в виде следующего графа:\n",
        "![img06.gif](data:image/gif;base64,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)\n"
      ],
      "metadata": {
        "id": "dzlcQUHocjaE"
      }
    },
    {
      "cell_type": "code",
      "source": [
        "tags_df = pd.DataFrame(tags_matrix, columns = list(tags), index=list(tags))\n",
        "display(tags_df)"
      ],
      "metadata": {
        "colab": {
          "base_uri": "https://localhost:8080/",
          "height": 457
        },
        "id": "01aOv_I3Um8I",
        "outputId": "3777922a-166c-4134-a264-493fbe3c56e4"
      },
      "execution_count": null,
      "outputs": [
        {
          "output_type": "display_data",
          "data": {
            "text/html": [
              "\n",
              "  <div id=\"df-9e41dfb9-b69c-40e4-8c0c-5a6aa4bc0842\">\n",
              "    <div class=\"colab-df-container\">\n",
              "      <div>\n",
              "<style scoped>\n",
              "    .dataframe tbody tr th:only-of-type {\n",
              "        vertical-align: middle;\n",
              "    }\n",
              "\n",
              "    .dataframe tbody tr th {\n",
              "        vertical-align: top;\n",
              "    }\n",
              "\n",
              "    .dataframe thead th {\n",
              "        text-align: right;\n",
              "    }\n",
              "</style>\n",
              "<table border=\"1\" class=\"dataframe\">\n",
              "  <thead>\n",
              "    <tr style=\"text-align: right;\">\n",
              "      <th></th>\n",
              "      <th>PART</th>\n",
              "      <th>INTJ</th>\n",
              "      <th>NUM</th>\n",
              "      <th>DET</th>\n",
              "      <th>CONJ</th>\n",
              "      <th>ADV</th>\n",
              "      <th>PUNCT</th>\n",
              "      <th>ADJ</th>\n",
              "      <th>H</th>\n",
              "      <th>VERB</th>\n",
              "      <th>PRON</th>\n",
              "      <th>NOUN</th>\n",
              "      <th>ADP</th>\n",
              "    </tr>\n",
              "  </thead>\n",
              "  <tbody>\n",
              "    <tr>\n",
              "      <th>PART</th>\n",
              "      <td>0.047054</td>\n",
              "      <td>0.000041</td>\n",
              "      <td>0.008876</td>\n",
              "      <td>0.029383</td>\n",
              "      <td>0.008633</td>\n",
              "      <td>0.080449</td>\n",
              "      <td>0.046202</td>\n",
              "      <td>0.079882</td>\n",
              "      <td>0.000405</td>\n",
              "      <td>0.483221</td>\n",
              "      <td>0.062211</td>\n",
              "      <td>0.080733</td>\n",
              "      <td>0.072911</td>\n",
              "    </tr>\n",
              "    <tr>\n",
              "      <th>INTJ</th>\n",
              "      <td>0.080139</td>\n",
              "      <td>0.003484</td>\n",
              "      <td>0.001742</td>\n",
              "      <td>0.006969</td>\n",
              "      <td>0.080139</td>\n",
              "      <td>0.078397</td>\n",
              "      <td>0.562718</td>\n",
              "      <td>0.024390</td>\n",
              "      <td>0.005226</td>\n",
              "      <td>0.038328</td>\n",
              "      <td>0.074913</td>\n",
              "      <td>0.017422</td>\n",
              "      <td>0.026132</td>\n",
              "    </tr>\n",
              "    <tr>\n",
              "      <th>NUM</th>\n",
              "      <td>0.007806</td>\n",
              "      <td>0.000000</td>\n",
              "      <td>0.008837</td>\n",
              "      <td>0.012371</td>\n",
              "      <td>0.010015</td>\n",
              "      <td>0.012666</td>\n",
              "      <td>0.085714</td>\n",
              "      <td>0.091458</td>\n",
              "      <td>0.000295</td>\n",
              "      <td>0.028719</td>\n",
              "      <td>0.008984</td>\n",
              "      <td>0.647570</td>\n",
              "      <td>0.085567</td>\n",
              "    </tr>\n",
              "    <tr>\n",
              "      <th>DET</th>\n",
              "      <td>0.029462</td>\n",
              "      <td>0.000000</td>\n",
              "      <td>0.005022</td>\n",
              "      <td>0.021078</td>\n",
              "      <td>0.006051</td>\n",
              "      <td>0.020801</td>\n",
              "      <td>0.057263</td>\n",
              "      <td>0.129909</td>\n",
              "      <td>0.000158</td>\n",
              "      <td>0.073041</td>\n",
              "      <td>0.029383</td>\n",
              "      <td>0.609206</td>\n",
              "      <td>0.018626</td>\n",
              "    </tr>\n",
              "    <tr>\n",
              "      <th>CONJ</th>\n",
              "      <td>0.071270</td>\n",
              "      <td>0.000332</td>\n",
              "      <td>0.007451</td>\n",
              "      <td>0.045753</td>\n",
              "      <td>0.017148</td>\n",
              "      <td>0.109061</td>\n",
              "      <td>0.024139</td>\n",
              "      <td>0.096685</td>\n",
              "      <td>0.003113</td>\n",
              "      <td>0.198551</td>\n",
              "      <td>0.161755</td>\n",
              "      <td>0.177039</td>\n",
              "      <td>0.087703</td>\n",
              "    </tr>\n",
              "    <tr>\n",
              "      <th>ADV</th>\n",
              "      <td>0.086545</td>\n",
              "      <td>0.000203</td>\n",
              "      <td>0.015268</td>\n",
              "      <td>0.019117</td>\n",
              "      <td>0.016534</td>\n",
              "      <td>0.081455</td>\n",
              "      <td>0.163569</td>\n",
              "      <td>0.108497</td>\n",
              "      <td>0.000177</td>\n",
              "      <td>0.293437</td>\n",
              "      <td>0.078493</td>\n",
              "      <td>0.060389</td>\n",
              "      <td>0.076315</td>\n",
              "    </tr>\n",
              "    <tr>\n",
              "      <th>PUNCT</th>\n",
              "      <td>0.041454</td>\n",
              "      <td>0.004856</td>\n",
              "      <td>0.009611</td>\n",
              "      <td>0.042863</td>\n",
              "      <td>0.224409</td>\n",
              "      <td>0.096228</td>\n",
              "      <td>0.031324</td>\n",
              "      <td>0.080171</td>\n",
              "      <td>0.011993</td>\n",
              "      <td>0.115832</td>\n",
              "      <td>0.127298</td>\n",
              "      <td>0.123106</td>\n",
              "      <td>0.090845</td>\n",
              "    </tr>\n",
              "    <tr>\n",
              "      <th>ADJ</th>\n",
              "      <td>0.010977</td>\n",
              "      <td>0.000000</td>\n",
              "      <td>0.004121</td>\n",
              "      <td>0.009159</td>\n",
              "      <td>0.028482</td>\n",
              "      <td>0.014839</td>\n",
              "      <td>0.139434</td>\n",
              "      <td>0.070747</td>\n",
              "      <td>0.000087</td>\n",
              "      <td>0.055389</td>\n",
              "      <td>0.013401</td>\n",
              "      <td>0.592139</td>\n",
              "      <td>0.061224</td>\n",
              "    </tr>\n",
              "    <tr>\n",
              "      <th>H</th>\n",
              "      <td>0.013029</td>\n",
              "      <td>0.000000</td>\n",
              "      <td>0.000000</td>\n",
              "      <td>0.010423</td>\n",
              "      <td>0.003257</td>\n",
              "      <td>0.020847</td>\n",
              "      <td>0.791531</td>\n",
              "      <td>0.018241</td>\n",
              "      <td>0.000000</td>\n",
              "      <td>0.046254</td>\n",
              "      <td>0.050163</td>\n",
              "      <td>0.025407</td>\n",
              "      <td>0.020847</td>\n",
              "    </tr>\n",
              "    <tr>\n",
              "      <th>VERB</th>\n",
              "      <td>0.032315</td>\n",
              "      <td>0.000064</td>\n",
              "      <td>0.010369</td>\n",
              "      <td>0.045260</td>\n",
              "      <td>0.023494</td>\n",
              "      <td>0.068193</td>\n",
              "      <td>0.231422</td>\n",
              "      <td>0.095779</td>\n",
              "      <td>0.000170</td>\n",
              "      <td>0.080247</td>\n",
              "      <td>0.068394</td>\n",
              "      <td>0.160823</td>\n",
              "      <td>0.183469</td>\n",
              "    </tr>\n",
              "    <tr>\n",
              "      <th>PRON</th>\n",
              "      <td>0.108617</td>\n",
              "      <td>0.000127</td>\n",
              "      <td>0.004561</td>\n",
              "      <td>0.021474</td>\n",
              "      <td>0.013472</td>\n",
              "      <td>0.124411</td>\n",
              "      <td>0.110475</td>\n",
              "      <td>0.064613</td>\n",
              "      <td>0.000465</td>\n",
              "      <td>0.376676</td>\n",
              "      <td>0.049621</td>\n",
              "      <td>0.050719</td>\n",
              "      <td>0.074769</td>\n",
              "    </tr>\n",
              "    <tr>\n",
              "      <th>NOUN</th>\n",
              "      <td>0.020956</td>\n",
              "      <td>0.000027</td>\n",
              "      <td>0.006363</td>\n",
              "      <td>0.021855</td>\n",
              "      <td>0.056258</td>\n",
              "      <td>0.036352</td>\n",
              "      <td>0.406632</td>\n",
              "      <td>0.059642</td>\n",
              "      <td>0.000172</td>\n",
              "      <td>0.134027</td>\n",
              "      <td>0.020784</td>\n",
              "      <td>0.130080</td>\n",
              "      <td>0.106852</td>\n",
              "    </tr>\n",
              "    <tr>\n",
              "      <th>ADP</th>\n",
              "      <td>0.000000</td>\n",
              "      <td>0.000000</td>\n",
              "      <td>0.034939</td>\n",
              "      <td>0.129235</td>\n",
              "      <td>0.000067</td>\n",
              "      <td>0.004519</td>\n",
              "      <td>0.001096</td>\n",
              "      <td>0.169907</td>\n",
              "      <td>0.000000</td>\n",
              "      <td>0.000354</td>\n",
              "      <td>0.149368</td>\n",
              "      <td>0.510278</td>\n",
              "      <td>0.000236</td>\n",
              "    </tr>\n",
              "  </tbody>\n",
              "</table>\n",
              "</div>\n",
              "      <button class=\"colab-df-convert\" onclick=\"convertToInteractive('df-9e41dfb9-b69c-40e4-8c0c-5a6aa4bc0842')\"\n",
              "              title=\"Convert this dataframe to an interactive table.\"\n",
              "              style=\"display:none;\">\n",
              "        \n",
              "  <svg xmlns=\"http://www.w3.org/2000/svg\" height=\"24px\"viewBox=\"0 0 24 24\"\n",
              "       width=\"24px\">\n",
              "    <path d=\"M0 0h24v24H0V0z\" fill=\"none\"/>\n",
              "    <path d=\"M18.56 5.44l.94 2.06.94-2.06 2.06-.94-2.06-.94-.94-2.06-.94 2.06-2.06.94zm-11 1L8.5 8.5l.94-2.06 2.06-.94-2.06-.94L8.5 2.5l-.94 2.06-2.06.94zm10 10l.94 2.06.94-2.06 2.06-.94-2.06-.94-.94-2.06-.94 2.06-2.06.94z\"/><path d=\"M17.41 7.96l-1.37-1.37c-.4-.4-.92-.59-1.43-.59-.52 0-1.04.2-1.43.59L10.3 9.45l-7.72 7.72c-.78.78-.78 2.05 0 2.83L4 21.41c.39.39.9.59 1.41.59.51 0 1.02-.2 1.41-.59l7.78-7.78 2.81-2.81c.8-.78.8-2.07 0-2.86zM5.41 20L4 18.59l7.72-7.72 1.47 1.35L5.41 20z\"/>\n",
              "  </svg>\n",
              "      </button>\n",
              "      \n",
              "  <style>\n",
              "    .colab-df-container {\n",
              "      display:flex;\n",
              "      flex-wrap:wrap;\n",
              "      gap: 12px;\n",
              "    }\n",
              "\n",
              "    .colab-df-convert {\n",
              "      background-color: #E8F0FE;\n",
              "      border: none;\n",
              "      border-radius: 50%;\n",
              "      cursor: pointer;\n",
              "      display: none;\n",
              "      fill: #1967D2;\n",
              "      height: 32px;\n",
              "      padding: 0 0 0 0;\n",
              "      width: 32px;\n",
              "    }\n",
              "\n",
              "    .colab-df-convert:hover {\n",
              "      background-color: #E2EBFA;\n",
              "      box-shadow: 0px 1px 2px rgba(60, 64, 67, 0.3), 0px 1px 3px 1px rgba(60, 64, 67, 0.15);\n",
              "      fill: #174EA6;\n",
              "    }\n",
              "\n",
              "    [theme=dark] .colab-df-convert {\n",
              "      background-color: #3B4455;\n",
              "      fill: #D2E3FC;\n",
              "    }\n",
              "\n",
              "    [theme=dark] .colab-df-convert:hover {\n",
              "      background-color: #434B5C;\n",
              "      box-shadow: 0px 1px 3px 1px rgba(0, 0, 0, 0.15);\n",
              "      filter: drop-shadow(0px 1px 2px rgba(0, 0, 0, 0.3));\n",
              "      fill: #FFFFFF;\n",
              "    }\n",
              "  </style>\n",
              "\n",
              "      <script>\n",
              "        const buttonEl =\n",
              "          document.querySelector('#df-9e41dfb9-b69c-40e4-8c0c-5a6aa4bc0842 button.colab-df-convert');\n",
              "        buttonEl.style.display =\n",
              "          google.colab.kernel.accessAllowed ? 'block' : 'none';\n",
              "\n",
              "        async function convertToInteractive(key) {\n",
              "          const element = document.querySelector('#df-9e41dfb9-b69c-40e4-8c0c-5a6aa4bc0842');\n",
              "          const dataTable =\n",
              "            await google.colab.kernel.invokeFunction('convertToInteractive',\n",
              "                                                     [key], {});\n",
              "          if (!dataTable) return;\n",
              "\n",
              "          const docLinkHtml = 'Like what you see? Visit the ' +\n",
              "            '<a target=\"_blank\" href=https://colab.research.google.com/notebooks/data_table.ipynb>data table notebook</a>'\n",
              "            + ' to learn more about interactive tables.';\n",
              "          element.innerHTML = '';\n",
              "          dataTable['output_type'] = 'display_data';\n",
              "          await google.colab.output.renderOutput(dataTable, element);\n",
              "          const docLink = document.createElement('div');\n",
              "          docLink.innerHTML = docLinkHtml;\n",
              "          element.appendChild(docLink);\n",
              "        }\n",
              "      </script>\n",
              "    </div>\n",
              "  </div>\n",
              "  "
            ],
            "text/plain": [
              "           PART      INTJ       NUM  ...      PRON      NOUN       ADP\n",
              "PART   0.047054  0.000041  0.008876  ...  0.062211  0.080733  0.072911\n",
              "INTJ   0.080139  0.003484  0.001742  ...  0.074913  0.017422  0.026132\n",
              "NUM    0.007806  0.000000  0.008837  ...  0.008984  0.647570  0.085567\n",
              "DET    0.029462  0.000000  0.005022  ...  0.029383  0.609206  0.018626\n",
              "CONJ   0.071270  0.000332  0.007451  ...  0.161755  0.177039  0.087703\n",
              "ADV    0.086545  0.000203  0.015268  ...  0.078493  0.060389  0.076315\n",
              "PUNCT  0.041454  0.004856  0.009611  ...  0.127298  0.123106  0.090845\n",
              "ADJ    0.010977  0.000000  0.004121  ...  0.013401  0.592139  0.061224\n",
              "H      0.013029  0.000000  0.000000  ...  0.050163  0.025407  0.020847\n",
              "VERB   0.032315  0.000064  0.010369  ...  0.068394  0.160823  0.183469\n",
              "PRON   0.108617  0.000127  0.004561  ...  0.049621  0.050719  0.074769\n",
              "NOUN   0.020956  0.000027  0.006363  ...  0.020784  0.130080  0.106852\n",
              "ADP    0.000000  0.000000  0.034939  ...  0.149368  0.510278  0.000236\n",
              "\n",
              "[13 rows x 13 columns]"
            ]
          },
          "metadata": {}
        }
      ]
    },
    {
      "cell_type": "markdown",
      "source": [
        "**Алгоритм Витерби**\n",
        "\n",
        "Алгоритм поиска наиболее подходящего списка состояний, который в контексте цепей Маркова получает наиболее вероятную последовательность скрытых состояний с учётом наблюдающейся последовательности в модели.\n",
        "\n",
        "![6258f0650c0adbe03ae559b9411a11f6.png.jpeg](data:image/jpeg;base64,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)"
      ],
      "metadata": {
        "id": "ulDfSQVffrVn"
      }
    },
    {
      "cell_type": "code",
      "source": [
        "print(train_tagged_words[0:10])"
      ],
      "metadata": {
        "colab": {
          "base_uri": "https://localhost:8080/"
        },
        "id": "7XhxabdPjyRH",
        "outputId": "cbfbe083-10bb-4601-83b1-f41947c0a7c1"
      },
      "execution_count": null,
      "outputs": [
        {
          "output_type": "stream",
          "name": "stdout",
          "text": [
            "[('Зачем', 'ADV'), ('вам', 'PRON'), ('тратить', 'VERB'), ('годы', 'NOUN'), ('на', 'ADP'), ('дорогу', 'NOUN'), (',', 'PUNCT'), ('которая', 'DET'), ('у', 'ADP'), ('ваших', 'DET')]\n"
          ]
        }
      ]
    },
    {
      "cell_type": "code",
      "source": [
        "def Viterbi(words, train_bag = train_tagged_words): # первый аргумент - список слов, которым нам нужно присвоить тег, второй - размеченная обучающая выборка \n",
        "    state = []\n",
        "    T = list(set([pair[1] for pair in train_bag])) # список всех возможных тегов\n",
        "     \n",
        "    for key, word in enumerate(words): # пронумеровываем список слов, чтобы можно было смотреть на предыдущее\n",
        "        p = [] # инициализируем список столбцов вероятности для каждого наблюдения\n",
        "        for tag in T: # считаем вероятность перехода\n",
        "            if key == 0: # если предыдущего тега нет, то рассматриваем вероятность появления слова после знака препинания, в начале предложения\n",
        "                transition_p = tags_df.loc['PUNCT', tag] \n",
        "            else: # если предыдущий тег есть, то рассматриваем его\n",
        "                transition_p = tags_df.loc[state[-1], tag]\n",
        "                 \n",
        "            # вычисляем вероятности выбросов и состояний\n",
        "            emission_p = word_given_tag(words[key], tag)[0]/word_given_tag(words[key], tag)[1] # вероятность выбросов ( насколько вероятно, что конкретное слово будет иметь конкретный тег)\n",
        "            state_probability = emission_p * transition_p  # вероятность состояний (умножаем веротность того, что слово в принципе встречалось с этим тегом на вероятность перехода)\n",
        "            p.append(state_probability) \n",
        "\n",
        "             \n",
        "        pmax = max(p) # выбираем максимальное значение из полученного списка\n",
        "        # получаем наиболее вероятную последовательность скрытых состояний\n",
        "        state_max = T[p.index(pmax)] # записываем его индекс и находим его соответствие в списке тегов \n",
        "        state.append(state_max)\n",
        "    return list(zip(words, state))"
      ],
      "metadata": {
        "id": "FD-P_RcDWAgq"
      },
      "execution_count": null,
      "outputs": []
    },
    {
      "cell_type": "code",
      "source": [
        "# протестируем алгоритм Витерби на нескольких примерах предложений тестового набора данных\n",
        "random.seed(1234)      #определяем случайное значение\n",
        " \n",
        "# выбираем случайные 10 значений\n",
        "rndom = [random.randint(1,len(test_set)) for x in range(10)]\n",
        " \n",
        "# список из 10 предложений, на которых мы тестируем модель\n",
        "test_run = [test_set[i] for i in rndom]\n",
        " \n",
        "# список размеченных слов\n",
        "test_run_base = [tup for sent in test_run for tup in sent]\n",
        " \n",
        "# список неразмеченных слов\n",
        "test_tagged_words = [tup[0] for sent in test_run for tup in sent]"
      ],
      "metadata": {
        "id": "l00blkIKWEqY"
      },
      "execution_count": null,
      "outputs": []
    },
    {
      "cell_type": "code",
      "source": [
        "print(len(test_tagged_words))"
      ],
      "metadata": {
        "colab": {
          "base_uri": "https://localhost:8080/"
        },
        "id": "VnwoMrstZIOk",
        "outputId": "2a641f22-3f30-4c26-dc05-42b2867769b0"
      },
      "execution_count": null,
      "outputs": [
        {
          "output_type": "stream",
          "name": "stdout",
          "text": [
            "100\n"
          ]
        }
      ]
    },
    {
      "cell_type": "markdown",
      "source": [
        "Проверяем скорость и точность алгоритма"
      ],
      "metadata": {
        "id": "OliBPCOfjwqp"
      }
    },
    {
      "cell_type": "code",
      "source": [
        "start = time.time()\n",
        "tagged_seq = Viterbi(test_tagged_words)\n",
        "end = time.time() # считаем сколько времени это заняло \n",
        "difference = end-start\n",
        " \n",
        "print(\"Время в секундах: \", difference)\n",
        " \n",
        "check = [i for i, j in zip(tagged_seq, test_run_base) if i == j]  \n",
        " \n",
        "accuracy = len(check)/len(tagged_seq) # считаем точность\n",
        "print('Точность алгоритма Витерби: ',accuracy*100)"
      ],
      "metadata": {
        "colab": {
          "base_uri": "https://localhost:8080/"
        },
        "id": "h6-RUsRPWXm8",
        "outputId": "fe0ddbff-804f-4ce3-9175-28794ced6166"
      },
      "execution_count": null,
      "outputs": [
        {
          "output_type": "stream",
          "name": "stdout",
          "text": [
            "Время в секундах:  296.45626759529114\n",
            "Точность алгоритма Витерби:  93.0\n"
          ]
        }
      ]
    },
    {
      "cell_type": "code",
      "source": [
        "for elem in tagged_seq[:12]:\n",
        "  print(elem)"
      ],
      "metadata": {
        "colab": {
          "base_uri": "https://localhost:8080/"
        },
        "id": "iyPoIKSRZllE",
        "outputId": "ae8eebff-bd40-4e47-d130-f4fe78137845"
      },
      "execution_count": null,
      "outputs": [
        {
          "output_type": "stream",
          "name": "stdout",
          "text": [
            "('У', 'ADP')\n",
            "('страны', 'NOUN')\n",
            "('было', 'VERB')\n",
            "('трудное', 'ADJ')\n",
            "('время', 'NOUN')\n",
            "('.', 'PUNCT')\n",
            "('Том', 'NOUN')\n",
            "('осторожно', 'ADV')\n",
            "('отвел', 'VERB')\n",
            "('ее', 'DET')\n",
            "('руку', 'NOUN')\n",
            "('.', 'PUNCT')\n"
          ]
        }
      ]
    },
    {
      "cell_type": "markdown",
      "source": [
        "Источники:\n",
        "\n",
        "1. A Guide to Hidden Markov Model and its Applications in NLP (https://analyticsindiamag.com/a-guide-to-hidden-markov-model-and-its-applications-in-nlp/)\n",
        "\n",
        "2. Датасет: General Internet-Corpus of Russian (https://github.com/dialogue-evaluation/morphoRuEval-2017/blob/master/Baseline.zip)"
      ],
      "metadata": {
        "id": "5BufkXv0B9x2"
      }
    }
  ]
}